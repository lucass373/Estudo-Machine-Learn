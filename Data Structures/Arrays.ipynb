{
 "cells": [
  {
   "cell_type": "markdown",
   "metadata": {},
   "source": [
    "Given an array of 'A' of 'N' integers, print each element in reverse order \n",
    "as a single line of space-separated integers.\n",
    "\n",
    "Example:\n",
    "Input  = 1 4 3 2\n",
    "Output = 2 3 4 1\n"
   ]
  },
  {
   "cell_type": "code",
   "execution_count": null,
   "metadata": {},
   "outputs": [],
   "source": [
    "#reverse the array\n",
    "\n",
    "#Method 1\n",
    "\n",
    "#for loop\n",
    "\n",
    "def reverseArray_1(a):\n",
    "    b = []\n",
    "    for i in a:\n",
    "        b.insert(i)\n",
    "    return b\n",
    "\n",
    "#method 2\n",
    "#copies the list prior to reversing it\n",
    "def reverseArray_2(a):\n",
    "    return a[::-1]\n",
    "\n",
    "#method 3\n",
    "#The fastest way to reverse a lost list\n",
    "def reverseArray_3(a):\n",
    "    a = a.reverse()\n",
    "    return a\n",
    "\n",
    "a = [1, 2, 3, 4]\n",
    "\n",
    "print(reverseArray_1(a))\n",
    "print(reverseArray_2(a))\n",
    "\n",
    "reverseArray_3(a)\n",
    "print(a)\n",
    "\n",
    "        "
   ]
  }
 ],
 "metadata": {
  "kernelspec": {
   "display_name": "Python 3",
   "language": "python",
   "name": "python3"
  },
  "language_info": {
   "name": "python",
   "version": "3.11.9"
  }
 },
 "nbformat": 4,
 "nbformat_minor": 2
}
