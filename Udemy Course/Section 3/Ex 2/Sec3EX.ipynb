{
 "cells": [
  {
   "cell_type": "markdown",
   "metadata": {},
   "source": [
    "1. Import the necessary libraries: We start by importing the necessary libraries for this exercise. Pandas is a library providing high-performance, easy-to-use data structures and data analysis tools. NumPy is a library used for working with arrays. SimpleImputer is a class from the sklearn.impute module that provides basic strategies for imputing missing values.\n",
    "\n",
    "    ## Importing the necessary libraries\n",
    "    import pandas as pd\n",
    "    import numpy as np\n",
    "    from sklearn.impute import SimpleImputer\n",
    "\n",
    "2. Load the dataset: The dataset is loaded into a pandas DataFrame using the read_csv function. This function is widely used in pandas to read a comma-separated values (csv) file into DataFrame.\n",
    "\n",
    "    ## Load the dataset\n",
    "    df = pd.read_csv('pima-indians-diabetes.csv')\n",
    "\n",
    "3. Identify missing data: We identify missing data in the DataFrame using the isnull function followed by the sum function. This gives us the number of missing entries in each column. These missing entries are represented as NaN.\n",
    "\n",
    "    ## Identify missing data (assumes that missing data is represented as NaN)\n",
    "    missing_data = df.isnull().sum()\n",
    "\n",
    "4. Print the number of missing entries in each column\n",
    "\n",
    "    ## Print the number of missing entries in each column\n",
    "    print(\"Missing data: \\n\", missing_data)\n",
    "\n",
    "5. Configure an instance of the SimpleImputer class: We create an instance of the SimpleImputer class. This class is a part of the sklearn.impute module and provides basic strategies for imputing missing values. We configure it to replace missing values (represented as np.nan) with the mean value of the column.\n",
    "\n",
    "    ## Configure an instance of the SimpleImputer class\n",
    "    imputer = SimpleImputer(missing_values=np.nan, strategy='mean')\n",
    "\n",
    "6. Fit the imputer on the DataFrame: We fit the imputer on the DataFrame using the fit method. This method calculates the imputation values (in this case, the mean of each column) that will be used to replace the missing data.\n",
    "\n",
    "    ## Fit the imputer on the DataFrame\n",
    "    imputer.fit(df)\n",
    "\n",
    "7. Apply the transform to the DataFrame: We apply the transform to the DataFrame using the transform method. This method replaces missing data with the imputation values calculated by the fit method.\n",
    "\n",
    "    ## Apply the transform to the DataFrame\n",
    "    df_imputed = imputer.transform(df)\n",
    "\n",
    "8. Print the updated matrix of features: Finally, we print out the updated matrix of features to verify that the missing data has been successfully replaced.\n",
    "\n",
    "    print(\"Updated matrix of features: \\n\", df_imputed)\n",
    "\n",
    "\n"
   ]
  },
  {
   "cell_type": "code",
   "execution_count": 1,
   "metadata": {},
   "outputs": [
    {
     "name": "stdout",
     "output_type": "stream",
     "text": [
      "Pregnancies                 0\n",
      "Glucose                     0\n",
      "BloodPressure               0\n",
      "SkinThickness               0\n",
      "Insulin                     0\n",
      "BMI                         0\n",
      "DiabetesPedigreeFunction    0\n",
      "Age                         0\n",
      "Outcome                     0\n",
      "dtype: int64\n",
      "Updated matrix of features: \n",
      " [[  6.    148.     72.    ...   0.627  50.      1.   ]\n",
      " [  1.     85.     66.    ...   0.351  31.      0.   ]\n",
      " [  8.    183.     64.    ...   0.672  32.      1.   ]\n",
      " ...\n",
      " [  5.    121.     72.    ...   0.245  30.      0.   ]\n",
      " [  1.    126.     60.    ...   0.349  47.      1.   ]\n",
      " [  1.     93.     70.    ...   0.315  23.      0.   ]]\n"
     ]
    }
   ],
   "source": [
    "# Importing the necessary libraries\n",
    "import numpy as np\n",
    "import pandas as pd\n",
    "from sklearn.impute import SimpleImputer\n",
    "\n",
    "# Load the dataset\n",
    "dataset = pd.read_csv('pima-indians-diabetes.csv')\n",
    "\n",
    "# Identify missing data (assumes that missing data is represented as NaN)\n",
    "missing_data = dataset.isnull().sum()\n",
    "\n",
    "# Print the number of missing entries in each column\n",
    "print(missing_data)\n",
    "\n",
    "# Configure an instance of the SimpleImputer class\n",
    "imputer = SimpleImputer(missing_values = np.nan, strategy = 'mean')\n",
    "\n",
    "# Fit the imputer on the DataFrame\n",
    "imputer.fit(dataset)\n",
    "\n",
    "# Apply the transform to the DataFrame\n",
    "df_imputed = imputer.transform(dataset)\n",
    "\n",
    "#Print your updated matrix of features\n",
    "print(\"Updated matrix of features: \\n\", df_imputed)"
   ]
  }
 ],
 "metadata": {
  "kernelspec": {
   "display_name": "Python 3",
   "language": "python",
   "name": "python3"
  },
  "language_info": {
   "codemirror_mode": {
    "name": "ipython",
    "version": 3
   },
   "file_extension": ".py",
   "mimetype": "text/x-python",
   "name": "python",
   "nbconvert_exporter": "python",
   "pygments_lexer": "ipython3",
   "version": "3.10.4"
  }
 },
 "nbformat": 4,
 "nbformat_minor": 2
}
